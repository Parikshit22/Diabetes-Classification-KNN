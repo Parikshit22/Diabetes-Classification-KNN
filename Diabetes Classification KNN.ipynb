{
 "cells": [
  {
   "cell_type": "code",
   "execution_count": 97,
   "metadata": {},
   "outputs": [
    {
     "name": "stdout",
     "output_type": "stream",
     "text": [
      "Index(['Pregnancies', 'Glucose', 'BloodPressure', 'SkinThickness', 'Insulin',\n",
      "       'BMI', 'DiabetesPedigreeFunction', 'Age'],\n",
      "      dtype='object')\n",
      "   Outcome\n",
      "0        1\n",
      "1        0\n",
      "2        1\n",
      "3        1\n",
      "4        0\n"
     ]
    }
   ],
   "source": [
    "import numpy as np\n",
    "import pandas as pd\n",
    "import matplotlib.pyplot as plt\n",
    "from sklearn.model_selection import train_test_split\n",
    "from sklearn.utils import shuffle\n",
    "from sklearn.metrics import accuracy_score\n",
    "x_data = pd.read_csv(\"Diabetes_XTrain.csv\")\n",
    "y_data = pd.read_csv(\"Diabetes_YTrain.csv\")\n",
    "#x_test = pd.read_csv(\"Diabetes_XTest.csv\")\n",
    "print(x_data.columns)\n",
    "print(y_data.head())"
   ]
  },
  {
   "cell_type": "code",
   "execution_count": 98,
   "metadata": {},
   "outputs": [
    {
     "name": "stdout",
     "output_type": "stream",
     "text": [
      "(576, 8)\n",
      "(576, 1)\n"
     ]
    }
   ],
   "source": [
    "x = x_data.values\n",
    "y = y_data.values\n",
    "#x_test = x_test.values\n",
    "x,y = shuffle(x,y,random_state = 34)\n",
    "print(x.shape)\n",
    "print(y.shape)\n",
    "x_train,x_test,y_train,y_test = train_test_split(x,y,test_size = 0.25,random_state = 42)"
   ]
  },
  {
   "cell_type": "code",
   "execution_count": 99,
   "metadata": {},
   "outputs": [],
   "source": [
    "def dist(x2,x1):\n",
    "    return np.sqrt(sum((x1-x2)**2))\n",
    "\n",
    "def knn(X,Y,query_point,k = 5):\n",
    "    val = []\n",
    "    num = X.shape[0]\n",
    "    \n",
    "    for i in range(num):\n",
    "        \n",
    "        d = dist(query_point,X[i])\n",
    "        val.append((d,Y[i]))\n",
    "    val.sort(key = lambda x: x[0])\n",
    "    val = val[:k]\n",
    "    vals = np.array(val)\n",
    "    new_val = np.unique(vals[:,1],return_counts = True)\n",
    "    idx = np.argmax(new_val[1])\n",
    "    pred = new_val[0][idx]\n",
    "    return pred\n",
    "    \n",
    "\n"
   ]
  },
  {
   "cell_type": "markdown",
   "metadata": {},
   "source": [
    "m = x_test.shape\n",
    "m = m[0]\n",
    "ans = []\n",
    "for i in range(m):\n",
    "    pred = knn(x,y,query_point = x_test[i],k=9)\n",
    "    ans.append(int(pred))\n",
    "dict = {\"Outcome\":ans}\n",
    "df = pd.DataFrame(dict)\n",
    "df.to_csv(\"file.csv\")\n"
   ]
  },
  {
   "cell_type": "code",
   "execution_count": 117,
   "metadata": {},
   "outputs": [
    {
     "name": "stdout",
     "output_type": "stream",
     "text": [
      "(144,)\n",
      "<class 'numpy.ndarray'>\n",
      "(144,)\n",
      "<class 'numpy.ndarray'>\n",
      "[0 0 0 0 0 0 0 0 0 0 0 0 0 0 1 0 0 0 0 0 0 0 1 0 0 0 0 0 0 0 0 1 0 1 0 0 0\n",
      " 0 0 1 0 0 0 0 1 0 0 0 0 0 0 0 0 0 0 0 1 0 1 1 0 0 0 0 0 0 0 1 0 0 0 0 0 0\n",
      " 0 1 0 0 1 0 0 0 0 0 1 0 0 0 0 1 0 0 0 0 0 1 0 0 0 0 1 0 0 0 0 1 1 0 1 0 0\n",
      " 0 0 0 0 0 0 0 0 1 1 1 0 1 0 1 0 1 0 0 0 0 1 0 1 0 0 0 0 1 0 0 0 1]\n",
      "[1 0 0 1 0 0 0 0 1 1 0 1 0 0 1 1 0 0 0 1 0 1 0 1 1 0 0 0 1 0 0 0 0 1 0 1 0\n",
      " 0 0 1 0 0 0 1 1 1 1 0 0 1 0 1 0 0 0 0 0 0 1 1 0 0 0 0 0 1 0 1 0 1 1 1 0 0\n",
      " 0 1 1 0 1 0 1 0 0 0 1 1 0 0 0 0 0 0 0 0 0 0 0 1 1 0 1 0 1 0 0 1 1 1 1 0 0\n",
      " 0 0 0 0 0 0 0 0 0 1 1 1 1 0 1 0 1 1 1 0 0 1 0 1 0 1 0 0 0 1 0 0 0]\n",
      "0.7152777777777778\n"
     ]
    }
   ],
   "source": [
    "m = x_test.shape[0]\n",
    "list = []\n",
    "for i in range(m):\n",
    "    pred = knn(x_train,y_train,query_point = x_test[i],k=18)\n",
    "    list.append(int(pred))\n",
    "lists = np.array(list)\n",
    "print(lists.shape)\n",
    "print(type(lists))\n",
    "result = y_test.reshape(-1,)\n",
    "print(result.shape)\n",
    "print(type(result))\n",
    "print(lists)\n",
    "print(result)\n",
    "acc = accuracy_score(result, lists)\n",
    "print(acc)"
   ]
  },
  {
   "cell_type": "code",
   "execution_count": null,
   "metadata": {},
   "outputs": [],
   "source": []
  }
 ],
 "metadata": {
  "kernelspec": {
   "display_name": "Python 3",
   "language": "python",
   "name": "python3"
  },
  "language_info": {
   "codemirror_mode": {
    "name": "ipython",
    "version": 3
   },
   "file_extension": ".py",
   "mimetype": "text/x-python",
   "name": "python",
   "nbconvert_exporter": "python",
   "pygments_lexer": "ipython3",
   "version": "3.6.8"
  }
 },
 "nbformat": 4,
 "nbformat_minor": 2
}
